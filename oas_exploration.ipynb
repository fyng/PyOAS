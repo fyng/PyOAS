{
 "cells": [
  {
   "cell_type": "code",
   "execution_count": 1,
   "metadata": {},
   "outputs": [],
   "source": [
    "import pandas as pd\n",
    "import json\n",
    "import ast\n",
    "from matplotlib import pyplot as plt\n",
    "from pathlib import Path\n",
    "import subprocess\n",
    "import os"
   ]
  },
  {
   "cell_type": "code",
   "execution_count": 9,
   "metadata": {},
   "outputs": [
    {
     "data": {
      "text/plain": [
       "0"
      ]
     },
     "execution_count": 9,
     "metadata": {},
     "output_type": "execute_result"
    }
   ],
   "source": [
    "# download all human paired antibody data with no known disease labels\n",
    "# https://opig.stats.ox.ac.uk/webapps/oas/oas_paired/\n",
    "subprocess.call(['sh', 'bulk_download.sh'], \n",
    "                stdout=subprocess.DEVNULL, \n",
    "                stderr=subprocess.DEVNULL\n",
    "                ) # suppress output"
   ]
  },
  {
   "cell_type": "code",
   "execution_count": 15,
   "metadata": {},
   "outputs": [
    {
     "name": "stderr",
     "output_type": "stream",
     "text": [
      "/scratch/lsftmp/8126244.tmpdir/ipykernel_22237/1770897806.py:9: DtypeWarning: Columns (109,125,126,127,128,155,191) have mixed types. Specify dtype option on import or set low_memory=False.\n",
      "  seq = pd.read_csv(filename, header=1)\n",
      "/scratch/lsftmp/8126244.tmpdir/ipykernel_22237/1770897806.py:9: DtypeWarning: Columns (109,125,126,127,128,155) have mixed types. Specify dtype option on import or set low_memory=False.\n",
      "  seq = pd.read_csv(filename, header=1)\n"
     ]
    },
    {
     "name": "stdout",
     "output_type": "stream",
     "text": [
      "(568139, 199)\n"
     ]
    }
   ],
   "source": [
    "# grab all the data file and join in a single dataframe\n",
    "data_dir = Path(\"data\")\n",
    "sequences = []\n",
    "metadata = {}\n",
    "\n",
    "meta_idx = 0\n",
    "for filename in data_dir.glob('*.csv.gz'):\n",
    "    metadata[meta_idx] = json.loads(','.join(pd.read_csv(filename, nrows=0).columns))\n",
    "    seq = pd.read_csv(filename, header=1)\n",
    "    seq['meta_idx'] = meta_idx\n",
    "    sequences.append(seq)\n",
    "    \n",
    "    meta_idx += 1\n",
    "\n",
    "df = pd.concat(sequences, ignore_index=True)\n",
    "print(df.shape)"
   ]
  },
  {
   "cell_type": "code",
   "execution_count": 16,
   "metadata": {},
   "outputs": [
    {
     "data": {
      "text/plain": [
       "{'Run': 'AT7mc_S2_',\n",
       " 'Link': 'https://doi.org/10.1038/s41590-022-01230-1',\n",
       " 'Author': 'Phad et al., 2022',\n",
       " 'Species': 'human',\n",
       " 'Age': 'no',\n",
       " 'BSource': 'PBMC',\n",
       " 'BType': 'Memory-B-Cells',\n",
       " 'Vaccine': 'None',\n",
       " 'Disease': 'None',\n",
       " 'Subject': 'Donor-1',\n",
       " 'Longitudinal': 'Year-2010',\n",
       " 'Unique sequences': 6522,\n",
       " 'Isotype': 'All',\n",
       " 'Chain': 'Paired'}"
      ]
     },
     "execution_count": 16,
     "metadata": {},
     "output_type": "execute_result"
    }
   ],
   "source": [
    "metadata[0]"
   ]
  },
  {
   "cell_type": "markdown",
   "metadata": {},
   "source": [
    "- `Age`: Information on age of the human B-cell donors.\n",
    "- `Disease`: Indicates whether the donor was sick at the time of B-cell extraction.\n",
    "- `Vaccine`: Indicates whether the B-cell donor was purposely immunised prior to B-cell - extraction.\n",
    "- `BType`: Indicates whether B-cells were experimentally sorted prior to sequencing.\n",
    "- `Species`: Organism of the B-cell donor.\n",
    "- `Author`: First author and the publication year.\n",
    "- `Unique`: sequences Number of sequences that passed quality filtering steps.\n",
    "- `BSource`: Which organ/tissue the B-cells were extracted from.\n",
    "- `Subject`: Indicates whether the B-cells can be tracked back to a particular individual.\n",
    "- `Longitudinal`: If the study is conducted over a period of time, indicates the particular timepoint when B-cells were sourced."
   ]
  },
  {
   "cell_type": "markdown",
   "metadata": {},
   "source": [
    "![](assets/antibody.webp)\n",
    "\n",
    "To better break down the data, it is helpful to understand the biology of an antibody. In textbooks, an antibody structure is drawn as a \"Y\". We typically treat the left and right side as symmetric (in sequence, structure, and function). Each side is composed of a **light chain** and a **heavy chain**. \n",
    "\n",
    "The primary difference is that the heavy chain is longer (Figure below). The additional length comes from the **Fc region** (the foot of the \"Y\"), which mediates interaction with immune cells. There are a few types of Fc region sequences, which determines the types of immune cells that the antibody actives. The Fc region type determines the isotype of the antibody -- IgG, IgM, IgA, IgD, IgE. \n",
    "\n",
    "On the other hand, the light and heavy chain shares a **Fab region** (the arms of the \"Y\"), which interact with antigens (the binding targets). The Fab region of the light and heavy chain have enormous structural diversity and biologists have developed a detailed classification scheme based on the maturation process of antibodies. \n",
    "\n",
    "Most of the diversity of Fab region stems from the **Fv region** (tip of the \"Y\", shaded in red). Some work on antibody modeling have focused exclusively on the Fv region and ignored other regions. The content below exclusively focus on the Fv region.\n",
    "\n",
    "There are 2 orthogonal ways to subdivide the Fv region, based on a genetic perspective and a structural/functional perspective:\n",
    "* Genetic sequence - VDJ classification: The Fv region is encoded by 3 gene segments - V, D, J. There are 100s of variants for each gene within each individual, which encodes the 1st line of antibody diversity.\n",
    "* Structural/Functional - CDRs and FWRs: The **CDRs (complement determining regions)** of the antibody contacts the antigen and determines binding, therefore they mutates more during B cell maturation. Meanwhile, the **FWRs (framework regions)** are thought to be structural scaffolds and mutate to a lesser extend. The Fv region is composed of 3 CDRs interspersed between 4 FWRs. The CDRs are often depicted as \"fingers\" and the FWRs the \"palms\" of a hand.\n",
    "\n",
    "There are two major mechanisms of diversity:\n",
    "1. **VDJ recombination**: Early on in a B cell's life, it selects 1 of each V,D, and J genes from 100s of isoforms. The selected segments are joined by double-stranded break repair, which inserts random nucleotides between the V,D,J segments, called **NP nucleotides**. This will become the very first antibodies they express. \n",
    "2. **Selection and maturation**: After B cells start expressing antibodies, they are \"trained\" in lymph nodes to ensure they are not autoimmune, while selecting those that strongly targets antigens. Clones - populations with the same genetic makeup - that survive the selection grows and mutates, conferring further diversity.\n"
   ]
  },
  {
   "cell_type": "code",
   "execution_count": 17,
   "metadata": {},
   "outputs": [
    {
     "data": {
      "text/plain": [
       "<matplotlib.legend.Legend at 0x2b5a2074e010>"
      ]
     },
     "execution_count": 17,
     "metadata": {},
     "output_type": "execute_result"
    },
    {
     "data": {
      "image/png": "[encoded data removed]",
      "text/plain": [
       "<Figure size 640x480 with 1 Axes>"
      ]
     },
     "metadata": {},
     "output_type": "display_data"
    }
   ],
   "source": [
    "df['sequence_alignment_aa_light'].str.len().hist(bins=30, label='light chain')\n",
    "df['sequence_alignment_aa_heavy'].str.len().hist(bins=30, label='heavy chain')\n",
    "plt.title('Amino acid sequence length distribution')\n",
    "plt.legend()"
   ]
  },
  {
   "cell_type": "markdown",
   "metadata": {},
   "source": [
    "There are a 198 columns in total (I added one additional column for indexing into the metadata). \n",
    "\n",
    "This is overwhelming on first sight, but with the biology in mind we can make sense of all the information. I find it helpful to break down the information hierarchically."
   ]
  },
  {
   "cell_type": "code",
   "execution_count": 18,
   "metadata": {},
   "outputs": [
    {
     "name": "stdout",
     "output_type": "stream",
     "text": [
      "199\n",
      "['sequence_id_heavy', 'sequence_heavy', 'locus_heavy', 'stop_codon_heavy', 'vj_in_frame_heavy', 'v_frameshift_heavy', 'productive_heavy', 'rev_comp_heavy', 'complete_vdj_heavy', 'v_call_heavy', 'd_call_heavy', 'j_call_heavy', 'sequence_alignment_heavy', 'germline_alignment_heavy', 'sequence_alignment_aa_heavy', 'germline_alignment_aa_heavy', 'v_alignment_start_heavy', 'v_alignment_end_heavy', 'd_alignment_start_heavy', 'd_alignment_end_heavy', 'j_alignment_start_heavy', 'j_alignment_end_heavy', 'v_sequence_alignment_heavy', 'v_sequence_alignment_aa_heavy', 'v_germline_alignment_heavy', 'v_germline_alignment_aa_heavy', 'd_sequence_alignment_heavy', 'd_sequence_alignment_aa_heavy', 'd_germline_alignment_heavy', 'd_germline_alignment_aa_heavy', 'j_sequence_alignment_heavy', 'j_sequence_alignment_aa_heavy', 'j_germline_alignment_heavy', 'j_germline_alignment_aa_heavy', 'fwr1_heavy', 'fwr1_aa_heavy', 'cdr1_heavy', 'cdr1_aa_heavy', 'fwr2_heavy', 'fwr2_aa_heavy', 'cdr2_heavy', 'cdr2_aa_heavy', 'fwr3_heavy', 'fwr3_aa_heavy', 'fwr4_heavy', 'fwr4_aa_heavy', 'cdr3_heavy', 'cdr3_aa_heavy', 'junction_heavy', 'junction_length_heavy', 'junction_aa_heavy', 'junction_aa_length_heavy', 'v_score_heavy', 'd_score_heavy', 'j_score_heavy', 'v_cigar_heavy', 'd_cigar_heavy', 'j_cigar_heavy', 'v_support_heavy', 'd_support_heavy', 'j_support_heavy', 'v_identity_heavy', 'd_identity_heavy', 'j_identity_heavy', 'v_sequence_start_heavy', 'v_sequence_end_heavy', 'v_germline_start_heavy', 'v_germline_end_heavy', 'd_sequence_start_heavy', 'd_sequence_end_heavy', 'd_germline_start_heavy', 'd_germline_end_heavy', 'j_sequence_start_heavy', 'j_sequence_end_heavy', 'j_germline_start_heavy', 'j_germline_end_heavy', 'fwr1_start_heavy', 'fwr1_end_heavy', 'cdr1_start_heavy', 'cdr1_end_heavy', 'fwr2_start_heavy', 'fwr2_end_heavy', 'cdr2_start_heavy', 'cdr2_end_heavy', 'fwr3_start_heavy', 'fwr3_end_heavy', 'fwr4_start_heavy', 'fwr4_end_heavy', 'cdr3_start_heavy', 'cdr3_end_heavy', 'np1_heavy', 'np1_length_heavy', 'np2_heavy', 'np2_length_heavy', 'c_region_heavy', 'Isotype_heavy', 'Redundancy_heavy', 'ANARCI_numbering_heavy', 'ANARCI_status_heavy', 'sequence_id_light', 'sequence_light', 'locus_light', 'stop_codon_light', 'vj_in_frame_light', 'v_frameshift_light', 'productive_light', 'rev_comp_light', 'complete_vdj_light', 'v_call_light', 'd_call_light', 'j_call_light', 'sequence_alignment_light', 'germline_alignment_light', 'sequence_alignment_aa_light', 'germline_alignment_aa_light', 'v_alignment_start_light', 'v_alignment_end_light', 'd_alignment_start_light', 'd_alignment_end_light', 'j_alignment_start_light', 'j_alignment_end_light', 'v_sequence_alignment_light', 'v_sequence_alignment_aa_light', 'v_germline_alignment_light', 'v_germline_alignment_aa_light', 'd_sequence_alignment_light', 'd_sequence_alignment_aa_light', 'd_germline_alignment_light', 'd_germline_alignment_aa_light', 'j_sequence_alignment_light', 'j_sequence_alignment_aa_light', 'j_germline_alignment_light', 'j_germline_alignment_aa_light', 'fwr1_light', 'fwr1_aa_light', 'cdr1_light', 'cdr1_aa_light', 'fwr2_light', 'fwr2_aa_light', 'cdr2_light', 'cdr2_aa_light', 'fwr3_light', 'fwr3_aa_light', 'fwr4_light', 'fwr4_aa_light', 'cdr3_light', 'cdr3_aa_light', 'junction_light', 'junction_length_light', 'junction_aa_light', 'junction_aa_length_light', 'v_score_light', 'd_score_light', 'j_score_light', 'v_cigar_light', 'd_cigar_light', 'j_cigar_light', 'v_support_light', 'd_support_light', 'j_support_light', 'v_identity_light', 'd_identity_light', 'j_identity_light', 'v_sequence_start_light', 'v_sequence_end_light', 'v_germline_start_light', 'v_germline_end_light', 'd_sequence_start_light', 'd_sequence_end_light', 'd_germline_start_light', 'd_germline_end_light', 'j_sequence_start_light', 'j_sequence_end_light', 'j_germline_start_light', 'j_germline_end_light', 'fwr1_start_light', 'fwr1_end_light', 'cdr1_start_light', 'cdr1_end_light', 'fwr2_start_light', 'fwr2_end_light', 'cdr2_start_light', 'cdr2_end_light', 'fwr3_start_light', 'fwr3_end_light', 'fwr4_start_light', 'fwr4_end_light', 'cdr3_start_light', 'cdr3_end_light', 'np1_light', 'np1_length_light', 'np2_light', 'np2_length_light', 'c_region_light', 'Isotype_light', 'Redundancy_light', 'ANARCI_numbering_light', 'ANARCI_status_light', 'meta_idx']\n"
     ]
    }
   ],
   "source": [
    "print(len(df.columns))\n",
    "print(list(df.columns))"
   ]
  },
  {
   "cell_type": "code",
   "execution_count": 19,
   "metadata": {},
   "outputs": [
    {
     "data": {
      "text/html": [
       "<div>\n",
       "<style scoped>\n",
       "    .dataframe tbody tr th:only-of-type {\n",
       "        vertical-align: middle;\n",
       "    }\n",
       "\n",
       "    .dataframe tbody tr th {\n",
       "        vertical-align: top;\n",
       "    }\n",
       "\n",
       "    .dataframe thead th {\n",
       "        text-align: right;\n",
       "    }\n",
       "</style>\n",
       "<table border=\"1\" class=\"dataframe\">\n",
       "  <thead>\n",
       "    <tr style=\"text-align: right;\">\n",
       "      <th></th>\n",
       "      <th>sequence_id_heavy</th>\n",
       "      <th>sequence_heavy</th>\n",
       "      <th>locus_heavy</th>\n",
       "      <th>stop_codon_heavy</th>\n",
       "      <th>vj_in_frame_heavy</th>\n",
       "      <th>v_frameshift_heavy</th>\n",
       "      <th>productive_heavy</th>\n",
       "      <th>rev_comp_heavy</th>\n",
       "      <th>complete_vdj_heavy</th>\n",
       "      <th>v_call_heavy</th>\n",
       "      <th>...</th>\n",
       "      <th>np1_light</th>\n",
       "      <th>np1_length_light</th>\n",
       "      <th>np2_light</th>\n",
       "      <th>np2_length_light</th>\n",
       "      <th>c_region_light</th>\n",
       "      <th>Isotype_light</th>\n",
       "      <th>Redundancy_light</th>\n",
       "      <th>ANARCI_numbering_light</th>\n",
       "      <th>ANARCI_status_light</th>\n",
       "      <th>meta_idx</th>\n",
       "    </tr>\n",
       "  </thead>\n",
       "  <tbody>\n",
       "    <tr>\n",
       "      <th>0</th>\n",
       "      <td>AAACCTGAGAGCAATT-1_contig_2</td>\n",
       "      <td>AGCTCTCAGAGAGGAGCCCAGCCCTGGGATTTTCAGGTGTTTTCAT...</td>\n",
       "      <td>H</td>\n",
       "      <td>F</td>\n",
       "      <td>T</td>\n",
       "      <td>F</td>\n",
       "      <td>T</td>\n",
       "      <td>F</td>\n",
       "      <td>T</td>\n",
       "      <td>IGHV3-23*01</td>\n",
       "      <td>...</td>\n",
       "      <td>NaN</td>\n",
       "      <td>0.0</td>\n",
       "      <td>NaN</td>\n",
       "      <td>NaN</td>\n",
       "      <td>GAACTGTGGCTGCACCATCTGTCTTCATCTTCCCGCCATCTGATGA...</td>\n",
       "      <td>Bulk</td>\n",
       "      <td>1.0</td>\n",
       "      <td>{'fwk1': {'1 ': 'A', '2 ': 'I', '3 ': 'Q', '4 ...</td>\n",
       "      <td>|||||</td>\n",
       "      <td>0</td>\n",
       "    </tr>\n",
       "    <tr>\n",
       "      <th>1</th>\n",
       "      <td>AAACCTGAGATCTGCT-1_contig_2</td>\n",
       "      <td>GAGGAGCCCCAGCCCTGGGATTCCCAGCTGTTTCTGCTTGCTGATC...</td>\n",
       "      <td>H</td>\n",
       "      <td>F</td>\n",
       "      <td>T</td>\n",
       "      <td>F</td>\n",
       "      <td>T</td>\n",
       "      <td>F</td>\n",
       "      <td>T</td>\n",
       "      <td>IGHV3-74*01</td>\n",
       "      <td>...</td>\n",
       "      <td>NaN</td>\n",
       "      <td>0.0</td>\n",
       "      <td>NaN</td>\n",
       "      <td>NaN</td>\n",
       "      <td>GAACTGTGGCTGCACCATCTGTCTTCATCTTCCCGCCATCTGATGA...</td>\n",
       "      <td>Bulk</td>\n",
       "      <td>1.0</td>\n",
       "      <td>{'fwk1': {'1 ': 'E', '2 ': 'I', '3 ': 'V', '4 ...</td>\n",
       "      <td>|||||</td>\n",
       "      <td>0</td>\n",
       "    </tr>\n",
       "    <tr>\n",
       "      <th>2</th>\n",
       "      <td>AAACCTGAGCAGCCTC-1_contig_2</td>\n",
       "      <td>TGGGGGCTTTCTGAGAGTCATGGACCTCCTGTGCAAGAACATGAAG...</td>\n",
       "      <td>H</td>\n",
       "      <td>F</td>\n",
       "      <td>T</td>\n",
       "      <td>F</td>\n",
       "      <td>T</td>\n",
       "      <td>F</td>\n",
       "      <td>T</td>\n",
       "      <td>IGHV4-39*07</td>\n",
       "      <td>...</td>\n",
       "      <td>TTT</td>\n",
       "      <td>3.0</td>\n",
       "      <td>NaN</td>\n",
       "      <td>NaN</td>\n",
       "      <td>GAACTGTGGCTGCACCATCTGTCTTCATCTTCCCGCCATCTGATGA...</td>\n",
       "      <td>Bulk</td>\n",
       "      <td>1.0</td>\n",
       "      <td>{'fwk1': {'1 ': 'A', '2 ': 'I', '3 ': 'Q', '4 ...</td>\n",
       "      <td>|||||</td>\n",
       "      <td>0</td>\n",
       "    </tr>\n",
       "    <tr>\n",
       "      <th>3</th>\n",
       "      <td>AAACCTGAGCAGGTCA-1_contig_2</td>\n",
       "      <td>GGAGTCTCCCTCACTGCCCAGCTGGGATCTCAGGGCTTCATTTTCT...</td>\n",
       "      <td>H</td>\n",
       "      <td>F</td>\n",
       "      <td>T</td>\n",
       "      <td>F</td>\n",
       "      <td>T</td>\n",
       "      <td>F</td>\n",
       "      <td>T</td>\n",
       "      <td>IGHV5-51*01</td>\n",
       "      <td>...</td>\n",
       "      <td>GGGA</td>\n",
       "      <td>4.0</td>\n",
       "      <td>NaN</td>\n",
       "      <td>NaN</td>\n",
       "      <td>GTCAGCCCAAGGCTGCCCCCTCGGTCACTCTGTTCCCGCCCTCCTC...</td>\n",
       "      <td>Bulk</td>\n",
       "      <td>1.0</td>\n",
       "      <td>{'fwl1': {'1 ': 'Q', '2 ': 'S', '3 ': 'A', '4 ...</td>\n",
       "      <td>|||||</td>\n",
       "      <td>0</td>\n",
       "    </tr>\n",
       "    <tr>\n",
       "      <th>4</th>\n",
       "      <td>AAACCTGAGCTTCGCG-1_contig_2</td>\n",
       "      <td>GGAGTCTCCCTCACTGCCCAGCTGGGATCTCAGGGCTTCGTTTTCT...</td>\n",
       "      <td>H</td>\n",
       "      <td>F</td>\n",
       "      <td>T</td>\n",
       "      <td>F</td>\n",
       "      <td>T</td>\n",
       "      <td>F</td>\n",
       "      <td>T</td>\n",
       "      <td>IGHV5-51*01</td>\n",
       "      <td>...</td>\n",
       "      <td>GT</td>\n",
       "      <td>2.0</td>\n",
       "      <td>NaN</td>\n",
       "      <td>NaN</td>\n",
       "      <td>GTCAGCCCAAGGCTGCCCCCTCGGTCACTCTGTTCCCGCCCTCCTC...</td>\n",
       "      <td>Bulk</td>\n",
       "      <td>1.0</td>\n",
       "      <td>{'fwl1': {'1 ': 'Q', '2 ': 'S', '3 ': 'A', '4 ...</td>\n",
       "      <td>|||||</td>\n",
       "      <td>0</td>\n",
       "    </tr>\n",
       "  </tbody>\n",
       "</table>\n",
       "<p>5 rows × 199 columns</p>\n",
       "</div>"
      ],
      "text/plain": [
       "             sequence_id_heavy  \\\n",
       "0  AAACCTGAGAGCAATT-1_contig_2   \n",
       "1  AAACCTGAGATCTGCT-1_contig_2   \n",
       "2  AAACCTGAGCAGCCTC-1_contig_2   \n",
       "3  AAACCTGAGCAGGTCA-1_contig_2   \n",
       "4  AAACCTGAGCTTCGCG-1_contig_2   \n",
       "\n",
       "                                      sequence_heavy locus_heavy  \\\n",
       "0  AGCTCTCAGAGAGGAGCCCAGCCCTGGGATTTTCAGGTGTTTTCAT...           H   \n",
       "1  GAGGAGCCCCAGCCCTGGGATTCCCAGCTGTTTCTGCTTGCTGATC...           H   \n",
       "2  TGGGGGCTTTCTGAGAGTCATGGACCTCCTGTGCAAGAACATGAAG...           H   \n",
       "3  GGAGTCTCCCTCACTGCCCAGCTGGGATCTCAGGGCTTCATTTTCT...           H   \n",
       "4  GGAGTCTCCCTCACTGCCCAGCTGGGATCTCAGGGCTTCGTTTTCT...           H   \n",
       "\n",
       "  stop_codon_heavy vj_in_frame_heavy v_frameshift_heavy productive_heavy  \\\n",
       "0                F                 T                  F                T   \n",
       "1                F                 T                  F                T   \n",
       "2                F                 T                  F                T   \n",
       "3                F                 T                  F                T   \n",
       "4                F                 T                  F                T   \n",
       "\n",
       "  rev_comp_heavy complete_vdj_heavy v_call_heavy  ... np1_light  \\\n",
       "0              F                  T  IGHV3-23*01  ...       NaN   \n",
       "1              F                  T  IGHV3-74*01  ...       NaN   \n",
       "2              F                  T  IGHV4-39*07  ...       TTT   \n",
       "3              F                  T  IGHV5-51*01  ...      GGGA   \n",
       "4              F                  T  IGHV5-51*01  ...        GT   \n",
       "\n",
       "  np1_length_light np2_light np2_length_light  \\\n",
       "0              0.0       NaN              NaN   \n",
       "1              0.0       NaN              NaN   \n",
       "2              3.0       NaN              NaN   \n",
       "3              4.0       NaN              NaN   \n",
       "4              2.0       NaN              NaN   \n",
       "\n",
       "                                      c_region_light Isotype_light  \\\n",
       "0  GAACTGTGGCTGCACCATCTGTCTTCATCTTCCCGCCATCTGATGA...          Bulk   \n",
       "1  GAACTGTGGCTGCACCATCTGTCTTCATCTTCCCGCCATCTGATGA...          Bulk   \n",
       "2  GAACTGTGGCTGCACCATCTGTCTTCATCTTCCCGCCATCTGATGA...          Bulk   \n",
       "3  GTCAGCCCAAGGCTGCCCCCTCGGTCACTCTGTTCCCGCCCTCCTC...          Bulk   \n",
       "4  GTCAGCCCAAGGCTGCCCCCTCGGTCACTCTGTTCCCGCCCTCCTC...          Bulk   \n",
       "\n",
       "   Redundancy_light                             ANARCI_numbering_light  \\\n",
       "0               1.0  {'fwk1': {'1 ': 'A', '2 ': 'I', '3 ': 'Q', '4 ...   \n",
       "1               1.0  {'fwk1': {'1 ': 'E', '2 ': 'I', '3 ': 'V', '4 ...   \n",
       "2               1.0  {'fwk1': {'1 ': 'A', '2 ': 'I', '3 ': 'Q', '4 ...   \n",
       "3               1.0  {'fwl1': {'1 ': 'Q', '2 ': 'S', '3 ': 'A', '4 ...   \n",
       "4               1.0  {'fwl1': {'1 ': 'Q', '2 ': 'S', '3 ': 'A', '4 ...   \n",
       "\n",
       "   ANARCI_status_light  meta_idx  \n",
       "0                |||||         0  \n",
       "1                |||||         0  \n",
       "2                |||||         0  \n",
       "3                |||||         0  \n",
       "4                |||||         0  \n",
       "\n",
       "[5 rows x 199 columns]"
      ]
     },
     "execution_count": 19,
     "metadata": {},
     "output_type": "execute_result"
    }
   ],
   "source": [
    "df.head()"
   ]
  },
  {
   "cell_type": "markdown",
   "metadata": {},
   "source": [
    "**Data Schematic** \n",
    "\n",
    "[Heavy/Light] chain-level info:\n",
    "- `sequence_[heavy/light]`: complete DNA sequence\n",
    "- `sequence_alignment_[heavy/light]`: DNA sequence aligned to the variable region. (V starts at position 1)\n",
    "- `germline_alignment_[heavy/light]`: putative germline DNA sequence aligned to the variable region.\n",
    "- `sequence_alignment_aa_[heavy/light]`: amino acid sequence aligned to the VDJ region.\n",
    "- `germline_alignment_aa_[heavy/light]`: germline amino acid sequence (nearest IMGT reference ensemble). \n",
    "- `c_region_[heavy/light]`: DNA sequence of the constant region\n",
    "- `Isotype_[heavy/light]`: Antibody isotype (IgA/D/E/G/M). 'Bulk' if unclassified. `Isotype_light` should be mostly 'Bulk' since the heavy chain determines the isotype.\n",
    "- VDJ classification info:\n",
    "    - `[v/d/j]_sequence_alignment_[heavy/light]`: reference-aligned V/D/J DNA sequence\n",
    "    - `[v/d/j]_sequence_alignment_aa_[heavy/light]`: reference-aligned V/D/J amino acid sequence\n",
    "    - `[v/d/j]_germline_alignment_[heavy/light]`: putative germline V/D/J DNA sequence\n",
    "    - `[v/d/j]_germline_alignment_aa_[heavy/light]`: putative germline V/D/J amino acid sequence\n",
    "    - `[v/d/j]_call_[heavy/light]`: IMGT reference sequence best matched (one of the 100s of VDJ variants)\n",
    "    - `[v/d/j]_alignment_[start/end]_[heavy/light]`: the start and end nucleotide of the V/D/J region in `sequence_alignment_[heavy/light]`\n",
    "    - `[v/d/j]_sequence_[start/end]_[heavy/light]`: the start and end nucleotide of the V/D/J region in `sequence_[heavy/light]`\n",
    "    - `[v/d/j]_germline_[start/end]_[heavy/light]`: the start and end nucleotide of the V/D/J region in `germline_alignment_[heavy/light]`\n",
    "    - `[v/d/j]_score_[heavy/light]`: IgBLAST score\n",
    "    - `[v/d/j]_support_[heavy/light]`: IgBLAST E value\n",
    "    - `[v/d/j]_identity_[heavy/light]`: IgBLAST identity (%)\n",
    "    - `[v/d/j]_cigar_[heavy/light]`: CIGAR string indicating mutations\n",
    "- CDR & FWR classification info:\n",
    "    - `fwr[1/2/3/4]_[heavy/light]`: FWR DNA sequence\n",
    "    - `fwr[1/2/3/4]_aa_[heavy/light]`: FWR amino acid\n",
    "    - `fwr[1/2/3/4]_[start/end]_[heavy/light]`: the start and end nucleotide of the FWR region in `sequence_[heavy/light]`\n",
    "    - `cdr[1/2/3/4]_[heavy/light]`: CDR DNA sequence\n",
    "    - `cdr[1/2/3/4]_aa_[heavy/light]`: CDR amino acid\n",
    "    - `cdr[1/2/3/4]_[start/end]_[heavy/light]`: the start and end nucleotide of the CDR region in `sequence_[heavy/light]`\n",
    "    - `junction_[heavy/light]`: junction DNA sequence (exactly what region???)\n",
    "    - `junction_aa_[heavy/light]`: junction amino sequence (exactly what region???)\n",
    "    - `np[1/2]_[heavy/light]`: DNA sequence of the NP nucleotides\n",
    "    - `ANARCI_numbering_[heavy/light]`: ANARCI output of variable region sequence. A dictionary stored as string literal.\n",
    "    - `ANARCI_status_[heavy/light]`: ANARCI status highlighting potential deletions, insertions, missing conserved cysteines, or truncated ends."
   ]
  },
  {
   "cell_type": "markdown",
   "metadata": {},
   "source": [
    "**Processing**\n",
    "\n",
    "The nucleotide-containing FASTA file was aligned to germline and translated using IgBLASTn 1.17.1.31 For IgBLASTn, the VDJ germline databases for human were created using ImMunoGeneTics (IMGT) germline sequences derived from IMGT. To determine the isotype of heavy chain sequences, the first 21 nucleotides of the constant heavy region 1 (CH1), obtained from IgBLASTn, were aligned to a set of IMGT-derived constant region germline with annotated isotypes. For each sequence, the IMGT numbering scheme was added using antibody numbering and antigen receptor classIfication (ANARCI) April 23, 2020. \n",
    "\n",
    "**Cleanup**\n",
    "\n",
    "Sequences with no high-confidence alignments or with missing CH1s had their isotype annotated as Bulk. Any sequence that ANARCI could not process was removed. This step predominantly removes sequences that contain a stop codon. An ANARCI status highlighting potential problems for each sequence is retained in the database.\n",
    "\n",
    "**Omissions**:\n",
    "\n",
    "I dropped derived columns that can be easily recomputed from data missingness (e.g. `complete_vdj_[heavy/light]`) or string length (e.g. `[np1/np2]_length_[heavy/light]`). Columns with 100% data consistency (`locus_heavy`, `stop_codon_heavy`) are also dropped. The columns `sequence_id_[heavy/light]` are not important as they are only uniquely identifying on a per-study basis."
   ]
  },
  {
   "cell_type": "markdown",
   "metadata": {},
   "source": [
    "**Further Readings**\n",
    "\n",
    "https://onlinelibrary.wiley.com/doi/10.1002/pro.4205\n",
    "\n",
    "https://opig.stats.ox.ac.uk/webapps/oas/documentation_paired/\n",
    "\n",
    "https://docs.nvidia.com/bionemo-framework/0.4.0/notebooks/custom-dataset-preprocessing-fw.html"
   ]
  }
 ],
 "metadata": {
  "kernelspec": {
   "display_name": "Python 3 (ipykernel)",
   "language": "python",
   "name": "python3"
  },
  "language_info": {
   "codemirror_mode": {
    "name": "ipython",
    "version": 3
   },
   "file_extension": ".py",
   "mimetype": "text/x-python",
   "name": "python",
   "nbconvert_exporter": "python",
   "pygments_lexer": "ipython3",
   "version": "3.11.9"
  },
  "orig_nbformat": 4
 },
 "nbformat": 4,
 "nbformat_minor": 2
}
